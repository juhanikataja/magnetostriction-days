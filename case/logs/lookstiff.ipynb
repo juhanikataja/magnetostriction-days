{
 "cells": [
  {
   "cell_type": "code",
   "execution_count": 20,
   "metadata": {},
   "outputs": [],
   "source": [
    "using DelimitedFiles\n",
    "using Printf"
   ]
  },
  {
   "cell_type": "code",
   "execution_count": 13,
   "metadata": {},
   "outputs": [
    {
     "data": {
      "text/plain": [
       "ediff (generic function with 1 method)"
      ]
     },
     "execution_count": 13,
     "metadata": {},
     "output_type": "execute_result"
    }
   ],
   "source": [
    "adiff(x,y) = 2*sqrt(sum((x[:,3]-y[:,3]).^2))/(sqrt(sum(x[:,3].^2))+sqrt(sum(y[:,3].^2)))\n",
    "ediff(x,y) = 2*sqrt(sum((x[:,end]-y[:,end]).^2))/(sqrt(sum(x[:,end].^2))+sqrt(sum(y[:,end].^2)))"
   ]
  },
  {
   "cell_type": "code",
   "execution_count": null,
   "metadata": {},
   "outputs": [],
   "source": [
    "mgs_a = readdlm(\"./galfenol_mgs_a.dat\"); mgs_b = readdlm(\"./galfenol_mgs_b.dat\")\n",
    "nomgs_a = readdlm(\"./galfenol_nomgs_a.dat\"); nomgs_b = readdlm(\"./galfenol_nomgs_b.dat\");"
   ]
  },
  {
   "cell_type": "code",
   "execution_count": 23,
   "metadata": {},
   "outputs": [
    {
     "name": "stdout",
     "output_type": "stream",
     "text": [
      "1.003052e+00, 0.000000e+00"
     ]
    }
   ],
   "source": [
    "@printf(\"%e, %e\", ediff(mgs_a, nomgs_a), ediff(mgs_b, nomgs_b))"
   ]
  },
  {
   "cell_type": "code",
   "execution_count": 4,
   "metadata": {
    "collapsed": true
   },
   "outputs": [
    {
     "data": {
      "text/plain": [
       "10×3 Array{Float64,2}:\n",
       " 1.0   1.0  3.64384e7\n",
       " 1.0   2.0  0.0      \n",
       " 1.0   3.0  0.0      \n",
       " 1.0   4.0  0.0      \n",
       " 1.0   5.0  0.0      \n",
       " 1.0   6.0  0.0      \n",
       " 1.0   7.0  0.0      \n",
       " 1.0   8.0  0.0      \n",
       " 1.0   9.0  0.0      \n",
       " 1.0  10.0  0.0      "
      ]
     },
     "execution_count": 4,
     "metadata": {},
     "output_type": "execute_result"
    }
   ],
   "source": [
    "nomgs_a[1:10,:]"
   ]
  },
  {
   "cell_type": "code",
   "execution_count": null,
   "metadata": {},
   "outputs": [],
   "source": []
  }
 ],
 "metadata": {
  "kernelspec": {
   "display_name": "Julia 1.0.0",
   "language": "julia",
   "name": "julia-1.0"
  },
  "language_info": {
   "file_extension": ".jl",
   "mimetype": "application/julia",
   "name": "julia",
   "version": "1.0.0"
  }
 },
 "nbformat": 4,
 "nbformat_minor": 2
}
